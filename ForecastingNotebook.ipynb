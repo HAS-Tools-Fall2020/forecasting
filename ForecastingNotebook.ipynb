{
 "metadata": {
  "language_info": {
   "codemirror_mode": {
    "name": "ipython",
    "version": 3
   },
   "file_extension": ".py",
   "mimetype": "text/x-python",
   "name": "python",
   "nbconvert_exporter": "python",
   "pygments_lexer": "ipython3",
   "version": "3.8.5-final"
  },
  "orig_nbformat": 2,
  "kernelspec": {
   "name": "python3",
   "display_name": "Python 3"
  }
 },
 "nbformat": 4,
 "nbformat_minor": 2,
 "cells": [
  {
   "source": [
    "# Forecasting Evaluation Notebook\n",
    "## Class: 599 HAS Tools\n",
    "## University of Arizona\n",
    " This is a Jupyter Notebook that helps to understand the work flow of the evaluation of predictions made by students to the Verde River streamflow."
   ],
   "cell_type": "markdown",
   "metadata": {}
  },
  {
   "source": [
    "from datetime import datetime\n",
    "\n",
    "# datetime object containing current date and time\n",
    "now = datetime.now()\n",
    "\n",
    "# mm/dd/YY H:M\n",
    "dt_string = now.strftime(\"%B %d, %Y. %H:%M\")\n",
    "print(\"Current time =\", dt_string, 'hours.')\t"
   ],
   "cell_type": "code",
   "metadata": {},
   "execution_count": 12,
   "outputs": [
    {
     "output_type": "stream",
     "name": "stdout",
     "text": [
      "Current time = November 29, 2020. 16:17 hours.\n"
     ]
    }
   ]
  },
  {
   "cell_type": "code",
   "execution_count": 16,
   "metadata": {},
   "outputs": [
    {
     "output_type": "error",
     "ename": "ModuleNotFoundError",
     "evalue": "No module named 'Score_Weekly'",
     "traceback": [
      "\u001b[1;31m---------------------------------------------------------------------------\u001b[0m",
      "\u001b[1;31mModuleNotFoundError\u001b[0m                       Traceback (most recent call last)",
      "\u001b[1;32m<ipython-input-16-67fddc24f26d>\u001b[0m in \u001b[0;36m<module>\u001b[1;34m\u001b[0m\n\u001b[1;32m----> 1\u001b[1;33m \u001b[1;32mimport\u001b[0m \u001b[0mScore_Weekly\u001b[0m \u001b[1;32mas\u001b[0m \u001b[0mscore_weekly\u001b[0m\u001b[1;33m\u001b[0m\u001b[1;33m\u001b[0m\u001b[0m\n\u001b[0m\u001b[0;32m      2\u001b[0m \u001b[0msummary\u001b[0m\u001b[1;33m.\u001b[0m\u001b[0mto_markdown\u001b[0m\u001b[1;33m(\u001b[0m\u001b[1;33m)\u001b[0m\u001b[1;33m\u001b[0m\u001b[1;33m\u001b[0m\u001b[0m\n",
      "\u001b[1;31mModuleNotFoundError\u001b[0m: No module named 'Score_Weekly'"
     ]
    }
   ],
   "source": [
    "import Score_Weekly as score_weekly\n",
    "summary.to_markdown()"
   ]
  },
  {
   "source": [
    "'|          | start      | end        |   observation |   1week_forecast |   1week_difference |   2week_forecast |   2week_difference |   1week_ranking |   2week_ranking |   1week_points |   2week_points |\\n|:---------|:-----------|:-----------|--------------:|-----------------:|-------------------:|-----------------:|-------------------:|----------------:|----------------:|---------------:|---------------:|\\n| Ty       | 2020-11-22 | 2020-11-28 |       158.429 |          nan     |         nan        |           nan    |          nan       |              17 |              19 |              0 |              0 |\\n| Lourdes  | 2020-11-22 | 2020-11-28 |       158.429 |          176.65  |          18.2214   |           197.75 |           39.3214  |              10 |              16 |              0 |              0 |\\n| Diana    | 2020-11-22 | 2020-11-28 |       158.429 |          nan     |         nan        |           185    |           26.5714  |              17 |              14 |              0 |              0 |\\n| Quinn    | 2020-11-22 | 2020-11-28 |       158.429 |          190     |          31.5714   |           199.69 |           41.2614  |              13 |              17 |              0 |              0 |\\n| Abigail  | 2020-11-22 | 2020-11-28 |       158.429 |           55.98  |         102.449    |           171.95 |           13.5214  |              16 |               8 |              0 |              0 |\\n| Alcely   | 2020-11-22 | 2020-11-28 |       158.429 |          198     |          39.5714   |           154.06 |            4.36857 |              15 |               3 |              0 |              1 |\\n| Richard  | 2020-11-22 | 2020-11-28 |       158.429 |          153.1   |           5.32857  |           153.3  |            5.12857 |               5 |               5 |              0 |              0 |\\n| Alexa    | 2020-11-22 | 2020-11-28 |       158.429 |          153     |           5.42857  |           150    |            8.42857 |               6 |               6 |              0 |              0 |\\n| Xenia    | 2020-11-22 | 2020-11-28 |       158.429 |          130.01  |          28.4186   |           171.79 |           13.3614  |              12 |               7 |              0 |              0 |\\n| Ben      | 2020-11-22 | 2020-11-28 |       158.429 |          157.53  |           0.898571 |           160.42 |            1.99143 |               3 |               1 |              1 |              2 |\\n| Shweta   | 2020-11-22 | 2020-11-28 |       158.429 |          158.143 |           0.285571 |           185.1  |           26.6714  |               2 |              15 |              1 |              0 |\\n| Patrick  | 2020-11-22 | 2020-11-28 |       158.429 |          179     |          20.5714   |           144.2  |           14.2286  |              11 |               9 |              0 |              0 |\\n| Jill     | 2020-11-22 | 2020-11-28 |       158.429 |          147.04  |          11.3886   |           181.8  |           23.3714  |               9 |              13 |              0 |              0 |\\n| Mekha    | 2020-11-22 | 2020-11-28 |       158.429 |          160.57  |           2.14143  |           141.65 |           16.7786  |               4 |              10 |              0 |              0 |\\n| Jake     | 2020-11-22 | 2020-11-28 |       158.429 |          168.88  |          10.4514   |           163.28 |            4.85143 |               7 |               4 |              0 |              0 |\\n| Camilo   | 2020-11-22 | 2020-11-28 |       158.429 |          158.23  |           0.198571 |           177.17 |           18.7414  |               1 |              11 |              2 |              0 |\\n| Scott    | 2020-11-22 | 2020-11-28 |       158.429 |          194.2   |          35.7714   |           217    |           58.5714  |              14 |              18 |              0 |              0 |\\n| Adam     | 2020-11-22 | 2020-11-28 |       158.429 |          169.7   |          11.2714   |           180    |           21.5714  |               8 |              12 |              0 |              0 |\\n| Danielle | 2020-11-22 | 2020-11-28 |       158.429 |          nan     |         nan        |           155.79 |            2.63857 |              17 |               2 |              0 |              1 |'"
   ],
   "cell_type": "markdown",
   "metadata": {}
  }
 ]
}